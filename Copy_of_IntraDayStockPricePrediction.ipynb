{
  "nbformat": 4,
  "nbformat_minor": 0,
  "metadata": {
    "colab": {
      "provenance": [],
      "collapsed_sections": [
        "JESjQJv0adBL",
        "j1I9eBK_XG3x",
        "PfnTu_48grlq"
      ],
      "toc_visible": true,
      "include_colab_link": true
    },
    "kernelspec": {
      "name": "python3",
      "display_name": "Python 3"
    },
    "language_info": {
      "name": "python"
    },
    "accelerator": "GPU"
  },
  "cells": [
    {
      "cell_type": "markdown",
      "metadata": {
        "id": "view-in-github",
        "colab_type": "text"
      },
      "source": [
        "<a href=\"https://colab.research.google.com/github/anaghaclement/IntraDayStockPrediction/blob/main/Copy_of_IntraDayStockPricePrediction.ipynb\" target=\"_parent\"><img src=\"https://colab.research.google.com/assets/colab-badge.svg\" alt=\"Open In Colab\"/></a>"
      ]
    },
    {
      "cell_type": "code",
      "execution_count": null,
      "metadata": {
        "id": "umGetFWobAhQ"
      },
      "outputs": [],
      "source": [
        "#Import all the required libraries\n",
        "\n",
        "import numpy as np\n",
        "import pandas as pd\n",
        "import matplotlib.pyplot as plt \n",
        "import seaborn as sns\n",
        "import keras\n",
        "\n",
        "from keras import backend as K\n",
        "from keras import optimizers\n",
        "\n",
        "## from keras.utils import plot_model\n",
        "from keras.models import Sequential, Model\n",
        "from keras.layers.convolutional import Conv1D, MaxPooling1D\n",
        "from keras.layers import Dense, LSTM, RepeatVector, TimeDistributed, Flatten\n",
        "from sklearn.metrics import mean_squared_error\n",
        "from sklearn.model_selection import train_test_split\n",
        "!pip install chart_studio\n",
        "import chart_studio.plotly as py\n",
        "\n",
        "from sklearn import preprocessing\n",
        "\n",
        "## import chart_studio.graph_objs as go\n",
        "## from chart_studio.offline import init_notebook_mode, iplot\n",
        "\n",
        "%matplotlib inline\n",
        "## init_notebook_mode(connected=True)\n",
        "\n",
        "# suppress warnings\n",
        "import warnings\n",
        "warnings.filterwarnings(\"ignore\")"
      ]
    },
    {
      "cell_type": "code",
      "source": [
        "url='https://raw.githubusercontent.com/anaghaclement/IntraDayStockPrediction/main/reliancedf_5min.csv'\n",
        "data = pd.read_csv(url)"
      ],
      "metadata": {
        "id": "O5q3rrO1kqJE"
      },
      "execution_count": null,
      "outputs": []
    },
    {
      "cell_type": "markdown",
      "source": [
        "#Loading Data"
      ],
      "metadata": {
        "id": "JESjQJv0adBL"
      }
    },
    {
      "cell_type": "code",
      "source": [
        "data.head()"
      ],
      "metadata": {
        "id": "s0p3DGi7aYs_"
      },
      "execution_count": null,
      "outputs": []
    },
    {
      "cell_type": "code",
      "source": [
        "data.tail()"
      ],
      "metadata": {
        "id": "D2Vy57W-ylrR"
      },
      "execution_count": null,
      "outputs": []
    },
    {
      "cell_type": "code",
      "source": [
        "#data['date'] = pd.to_datetime(data['date'], format='%Y-%m-%d %H:%M')\n",
        "#data = data.set_index('date')\n",
        "#data.head()"
      ],
      "metadata": {
        "id": "QsiWk4K7blWT"
      },
      "execution_count": null,
      "outputs": []
    },
    {
      "cell_type": "markdown",
      "source": [],
      "metadata": {
        "id": "B4t5oTAXdyRj"
      }
    },
    {
      "cell_type": "markdown",
      "source": [
        "#Plot Time Series Data"
      ],
      "metadata": {
        "id": "Z_u-yznM0od2"
      }
    },
    {
      "cell_type": "code",
      "source": [
        "data.shape"
      ],
      "metadata": {
        "id": "VKIkWFhs0U10"
      },
      "execution_count": null,
      "outputs": []
    },
    {
      "cell_type": "code",
      "source": [
        "data.isnull().value_counts()"
      ],
      "metadata": {
        "id": "USaS2FEENe3e"
      },
      "execution_count": null,
      "outputs": []
    },
    {
      "cell_type": "code",
      "source": [
        "data.describe()"
      ],
      "metadata": {
        "id": "fnQFr4nu0Uxv"
      },
      "execution_count": null,
      "outputs": []
    },
    {
      "cell_type": "code",
      "source": [
        "data.rename(columns = {'Unnamed: 0':'Period'}, \n",
        "            inplace = True)\n",
        "data.head()"
      ],
      "metadata": {
        "id": "qME2DoYTemQN"
      },
      "execution_count": null,
      "outputs": []
    },
    {
      "cell_type": "code",
      "source": [
        "data['date'].head(75)"
      ],
      "metadata": {
        "id": "d2zskVSeZPFq"
      },
      "execution_count": null,
      "outputs": []
    },
    {
      "cell_type": "markdown",
      "source": [
        "Per day 5-minute data is 72 rows"
      ],
      "metadata": {
        "id": "GkggilJBbj2Q"
      }
    },
    {
      "cell_type": "code",
      "source": [
        "data = data.drop(['Period','date'], axis=1)\n",
        "#data = data.drop(['Period','date','volume'], axis=1)\n",
        "data.head()"
      ],
      "metadata": {
        "id": "obd_KZfvfygB"
      },
      "execution_count": null,
      "outputs": []
    },
    {
      "cell_type": "code",
      "source": [
        "data.tail()"
      ],
      "metadata": {
        "id": "lZFZyLeTaeDs"
      },
      "execution_count": null,
      "outputs": []
    },
    {
      "cell_type": "markdown",
      "source": [
        "##Add Moving Average"
      ],
      "metadata": {
        "id": "2E23U4GM6KeO"
      }
    },
    {
      "cell_type": "code",
      "source": [
        "ma_hourly = [12,24,72,144] \n",
        "# 1hour, 2hours, 6 hours, 12 hours Moving average since this is a 5-minutes interval data\n",
        "\n",
        "for ma in ma_hourly:\n",
        "    column_name = \"MA for %s 5minutes\" %(str(ma))\n",
        "    data[column_name]=pd.DataFrame.rolling(data['close'],ma).mean()"
      ],
      "metadata": {
        "id": "nNiVaXm86J8U"
      },
      "execution_count": null,
      "outputs": []
    },
    {
      "cell_type": "code",
      "source": [
        "\tdef get_rsi(close, lookback):\n",
        "\t    ret = close.diff()\n",
        "\t    up = []\n",
        "\t    down = []\n",
        "\t    for i in range(len(ret)):\n",
        "\t        if ret[i] < 0:\n",
        "\t            up.append(0)\n",
        "\t            down.append(ret[i])\n",
        "\t        else:\n",
        "\t            up.append(ret[i])\n",
        "\t            down.append(0)\n",
        "\t    up_series = pd.Series(up)\n",
        "\t    down_series = pd.Series(down).abs()\n",
        "\t    up_ewm = up_series.ewm(com = lookback - 1, adjust = False).mean()\n",
        "\t    down_ewm = down_series.ewm(com = lookback - 1, adjust = False).mean()\n",
        "\t    rs = up_ewm/down_ewm\n",
        "\t    rsi = 100 - (100 / (1 + rs))\n",
        "\t    rsi_df = pd.DataFrame(rsi).rename(columns = {0:'rsi'}).set_index(close.index)\n",
        "\t    rsi_df = rsi_df.dropna()\n",
        "\t    return rsi_df[3:]\n"
      ],
      "metadata": {
        "id": "9gQWS1LmUCkJ"
      },
      "execution_count": null,
      "outputs": []
    },
    {
      "cell_type": "code",
      "source": [
        "lookback = 14\n",
        "data['RSI'] =  get_rsi(data['close'], lookback)"
      ],
      "metadata": {
        "id": "Csf_ga5Ba61C"
      },
      "execution_count": null,
      "outputs": []
    },
    {
      "cell_type": "code",
      "source": [
        "data = data.dropna(axis=0)\n",
        "data.reset_index(inplace=True, drop=True)"
      ],
      "metadata": {
        "id": "yyAIwMSiaYHr"
      },
      "execution_count": null,
      "outputs": []
    },
    {
      "cell_type": "markdown",
      "source": [],
      "metadata": {
        "id": "g5Se1I0STy6C"
      }
    },
    {
      "cell_type": "code",
      "source": [
        "data.head(15)"
      ],
      "metadata": {
        "id": "j0TEn2Hu_RAI"
      },
      "execution_count": null,
      "outputs": []
    },
    {
      "cell_type": "markdown",
      "source": [
        "## Plot Original Stock Price Chart"
      ],
      "metadata": {
        "id": "j1I9eBK_XG3x"
      }
    },
    {
      "cell_type": "code",
      "source": [
        "plt.figure(figsize=(12, 4))\n",
        "plt.legend(loc='best')\n",
        "plt.ylabel('Price', fontsize=16)\n",
        "plt.xlabel('5-Min Interval', fontsize=16)\n",
        "plt.plot(data['open'])\n",
        "plt.title('Reliance Industries Open Price History over 3 years')\n",
        "plt.show(block=False)"
      ],
      "metadata": {
        "id": "VDbrJxOlgvek"
      },
      "execution_count": null,
      "outputs": []
    },
    {
      "cell_type": "code",
      "source": [
        "plt.figure(figsize=(12, 4))\n",
        "plt.legend(loc='best')\n",
        "plt.ylabel('Price', fontsize=16)\n",
        "plt.xlabel('5-Min Interval', fontsize=16)\n",
        "plt.plot(data['high'])\n",
        "plt.title('Reliance Industries High Price History over 3 years')\n",
        "plt.show(block=False)"
      ],
      "metadata": {
        "id": "FN657or1T1mx"
      },
      "execution_count": null,
      "outputs": []
    },
    {
      "cell_type": "code",
      "source": [
        "plt.figure(figsize=(12, 4))\n",
        "plt.legend(loc='best')\n",
        "plt.ylabel('Price', fontsize=16)\n",
        "plt.xlabel('5-Min Interval', fontsize=16)\n",
        "plt.plot(data['low'])\n",
        "plt.title('Reliance Industries Low Price History over 3 years')\n",
        "plt.show(block=False)"
      ],
      "metadata": {
        "id": "WQLXQvE6T1b7"
      },
      "execution_count": null,
      "outputs": []
    },
    {
      "cell_type": "code",
      "source": [
        "plt.figure(figsize=(12, 4))\n",
        "plt.legend(loc='best')\n",
        "plt.ylabel('Price', fontsize=16)\n",
        "plt.xlabel('5-Min Interval', fontsize=16)\n",
        "plt.plot(data['close'])\n",
        "plt.title('Reliance Industries Close Price History over 3 years')\n",
        "plt.show(block=False)"
      ],
      "metadata": {
        "id": "o2trtRUBS3C5"
      },
      "execution_count": null,
      "outputs": []
    },
    {
      "cell_type": "markdown",
      "source": [
        "##Normalise (Min Max Scaler)\n",
        "open-high-low-close(ohlc) values normalized"
      ],
      "metadata": {
        "id": "UT710BBkFhff"
      }
    },
    {
      "cell_type": "code",
      "source": [
        "# Data normaliser\n",
        "data_normaliser = preprocessing.MinMaxScaler()\n",
        "data_normalised = data_normaliser.fit_transform(data) \n",
        "\n",
        "history_points = 288 \n",
        "#4 weeks data with 72 rows for one day - Scaled MSE = 29\n",
        "#Tried history_points = 720\n",
        "# using the last {history_points} open high low close volume data points, predict the next open value\n",
        "data_histories_normalised = np.array([data_normalised[i: i + history_points].copy() for i in range(len(data_normalised) - history_points)])\n",
        "print(data_histories_normalised.shape)"
      ],
      "metadata": {
        "id": "IuUSMn9MFhHI"
      },
      "execution_count": null,
      "outputs": []
    },
    {
      "cell_type": "code",
      "source": [
        "data_normalised"
      ],
      "metadata": {
        "id": "_Bi2UzGvgmUX"
      },
      "execution_count": null,
      "outputs": []
    },
    {
      "cell_type": "code",
      "source": [
        "print(data.shape)"
      ],
      "metadata": {
        "id": "F5opkEjodfD6"
      },
      "execution_count": null,
      "outputs": []
    },
    {
      "cell_type": "markdown",
      "source": [
        "## Next Day Open Values Normalised"
      ],
      "metadata": {
        "id": "2QYC63xrdmVB"
      }
    },
    {
      "cell_type": "code",
      "source": [
        "# next-day-open-values normalised\n",
        "next_day_open_values_normalised = np.array([data_normalised[:,0][i + history_points].copy() for i in range(len(data_normalised) - history_points)])   \n",
        "next_day_open_values_normalised = np.expand_dims(next_day_open_values_normalised, -1)\n",
        "\n",
        "next_day_open_values = np.array([data.loc[:,\"open\"][i + history_points].copy() for i in range(len(data) - history_points)])\n",
        "next_day_open_values = np.expand_dims(next_day_open_values, -1)\n",
        "\n",
        "y_scaler = preprocessing.MinMaxScaler()\n",
        "y_scaler.fit(next_day_open_values)\n",
        "    \n",
        "print(data_histories_normalised.shape[0] == next_day_open_values_normalised.shape[0])"
      ],
      "metadata": {
        "id": "IPnlvP9UdmAn"
      },
      "execution_count": null,
      "outputs": []
    },
    {
      "cell_type": "code",
      "source": [
        "test_split = 0.8 # 80% stock-history for training, most-recent 20% stock-history for testing\n",
        "n = int(data_histories_normalised.shape[0] * test_split)\n",
        "print(n)"
      ],
      "metadata": {
        "id": "qadaRWa7eH0U"
      },
      "execution_count": null,
      "outputs": []
    },
    {
      "cell_type": "code",
      "source": [
        "data_train = data_histories_normalised[:n]\n",
        "y_train = next_day_open_values_normalised[:n]\n",
        "\n",
        "data_test = data_histories_normalised[n:]\n",
        "y_test = next_day_open_values_normalised[n:]\n",
        "\n",
        "unscaled_y_test = next_day_open_values[n:]"
      ],
      "metadata": {
        "id": "IG_uIORoegVn"
      },
      "execution_count": null,
      "outputs": []
    },
    {
      "cell_type": "code",
      "source": [
        "print(data_train.shape)\n",
        "print(y_train.shape)\n",
        "\n",
        "print(data_test.shape)\n",
        "print(y_test.shape)\n",
        "\n",
        "print(unscaled_y_test.shape)"
      ],
      "metadata": {
        "id": "veMR1YJIei0j"
      },
      "execution_count": null,
      "outputs": []
    },
    {
      "cell_type": "markdown",
      "source": [
        "## Build Model"
      ],
      "metadata": {
        "id": "uouCwA7JeoZM"
      }
    },
    {
      "cell_type": "code",
      "source": [
        "from tensorflow.keras.models import Sequential\n",
        "from tensorflow.keras.layers import Input, Conv1D, LSTM, Dense"
      ],
      "metadata": {
        "id": "MJcr32j0enKc"
      },
      "execution_count": null,
      "outputs": []
    },
    {
      "cell_type": "code",
      "source": [
        "# Build Model \n",
        "number_of_columns = 10\n",
        "model = Sequential()\n",
        "model.add(Input(shape=(history_points, number_of_columns)))\n",
        "model.add(Conv1D(history_points, number_of_columns, padding='same', activation='sigmoid'))\n",
        "#model.add(Conv1D(history_points, 5, padding='same', activation='relu'))\n",
        "#model.add(LSTM(history_points, return_sequences=True))\n",
        "model.add(LSTM(history_points))\n",
        "model.add(Dense(64, activation='sigmoid'))\n",
        "#model.add(Dense(64, activation='relu'))\n",
        "model.add(Dense(1, activation='linear'))\n",
        "model.compile(loss='mse', optimizer='adam')\n",
        "model.summary()"
      ],
      "metadata": {
        "id": "W0hxeYPEeuV6"
      },
      "execution_count": null,
      "outputs": []
    },
    {
      "cell_type": "markdown",
      "source": [
        "##Train Model"
      ],
      "metadata": {
        "id": "trs6unJle8U7"
      }
    },
    {
      "cell_type": "code",
      "source": [
        "num_epochs= 25\n",
        "batch_size = 64"
      ],
      "metadata": {
        "id": "KyKn0BZZeuSB"
      },
      "execution_count": null,
      "outputs": []
    },
    {
      "cell_type": "code",
      "source": [
        "# Train Model\n",
        "model.fit(data_train, y_train, batch_size=batch_size, epochs=num_epochs, shuffle=True, validation_split=0.2, verbose=1)"
      ],
      "metadata": {
        "id": "mDSxY-3beuOh"
      },
      "execution_count": null,
      "outputs": []
    },
    {
      "cell_type": "markdown",
      "source": [
        "## Evaluate Model"
      ],
      "metadata": {
        "id": "XDcTZszbfLdI"
      }
    },
    {
      "cell_type": "code",
      "source": [
        "evaluation = model.evaluate(data_test, y_test)\n",
        "print(evaluation)"
      ],
      "metadata": {
        "id": "zRLc2BILeuCl"
      },
      "execution_count": null,
      "outputs": []
    },
    {
      "cell_type": "markdown",
      "source": [
        "## Test Model"
      ],
      "metadata": {
        "id": "MYKwyv96fbnw"
      }
    },
    {
      "cell_type": "code",
      "source": [
        "y_test_predicted = model.predict(data_test)\n",
        "print(y_test_predicted.shape)\n",
        "\n",
        "# model.predict returns normalised values, now we scale them back up using the y_scaler from before\n",
        "y_test_predicted = y_test_predicted.reshape(y_test_predicted.shape[0], y_test_predicted.shape[1])\n",
        "y_test_predicted = y_scaler.inverse_transform(y_test_predicted)\n",
        "print(y_test_predicted.shape)"
      ],
      "metadata": {
        "id": "nZt1IKH0faCG"
      },
      "execution_count": null,
      "outputs": []
    },
    {
      "cell_type": "code",
      "source": [
        "y_predicted = model.predict(data_histories_normalised)\n",
        "print(y_predicted.shape)\n",
        "y_predicted = y_scaler.inverse_transform(y_predicted)\n",
        "print(y_predicted.shape)"
      ],
      "metadata": {
        "id": "znTsR_zkfih6"
      },
      "execution_count": null,
      "outputs": []
    },
    {
      "cell_type": "code",
      "source": [
        "print(unscaled_y_test.shape == y_test_predicted.shape)\n",
        "real_mse = np.mean(np.square(unscaled_y_test - y_test_predicted))\n",
        "scaled_mse = real_mse / (np.max(unscaled_y_test) - np.min(unscaled_y_test)) * 100\n",
        "print(\"RMSE      : {:.2f}\".format(np.sqrt(scaled_mse)))"
      ],
      "metadata": {
        "id": "xybabSMRfjww"
      },
      "execution_count": null,
      "outputs": []
    },
    {
      "cell_type": "code",
      "source": [
        "from sklearn.metrics import mean_absolute_error\n",
        "#get the mean absolute error (average of the forecast error values - all of them forced to be positive)\n",
        "mae = mean_absolute_error(unscaled_y_test, y_test_predicted)\n",
        "print(\"MAE      : {:.2f}\".format(mae))"
      ],
      "metadata": {
        "id": "DH3I1b0bESDz"
      },
      "execution_count": null,
      "outputs": []
    },
    {
      "cell_type": "code",
      "source": [
        "#define MAPE\n",
        "def mean_absolute_percentage_error(y_true, y_pred): \n",
        "    y_true, y_pred = np.array(y_true), np.array(y_pred)\n",
        "    return np.mean(np.abs((y_true - y_pred) / y_true)) * 100\n",
        "#get MAPE\n",
        "mape = mean_absolute_percentage_error(unscaled_y_test, y_test_predicted)\n",
        "print(\"MAPE      : {:.2f}\".format(mape))"
      ],
      "metadata": {
        "id": "Tp-h422WJjAE"
      },
      "execution_count": null,
      "outputs": []
    },
    {
      "cell_type": "markdown",
      "source": [
        "## Plot Chart"
      ],
      "metadata": {
        "id": "Sm1Nx_4xfrJh"
      }
    },
    {
      "cell_type": "code",
      "source": [
        "train  = data.loc[history_points: n+history_points,'open'] \n",
        "actual = data.loc[n+history_points:,'open']\n",
        "print(len(train))\n",
        "print(len(actual))"
      ],
      "metadata": {
        "id": "z6Q00T22fpkj"
      },
      "execution_count": null,
      "outputs": []
    },
    {
      "cell_type": "code",
      "source": [
        "valid=pd.DataFrame()\n",
        "valid['Actual'] = actual\n",
        "valid['Prediction'] = y_test_predicted"
      ],
      "metadata": {
        "id": "-4Z3Valrfvry"
      },
      "execution_count": null,
      "outputs": []
    },
    {
      "cell_type": "markdown",
      "source": [
        "## Display Chart"
      ],
      "metadata": {
        "id": "6UGgKZUvf084"
      }
    },
    {
      "cell_type": "code",
      "source": [
        "# Visualize the data\n",
        "plt.figure(figsize=(16,8))\n",
        "plt.title('Reliance Industries', fontsize=16)\n",
        "plt.xlabel('5-minute interval', fontsize=16)\n",
        "plt.ylabel('Open Price INR', fontsize=16)\n",
        "plt.plot(train)\n",
        "plt.plot(valid[['Actual','Prediction']])\n",
        "plt.legend(['Train', 'Actual', 'Prediction'], loc='lower right')\n",
        "plt.show()"
      ],
      "metadata": {
        "id": "vdjVm6yNfyZq"
      },
      "execution_count": null,
      "outputs": []
    },
    {
      "cell_type": "markdown",
      "source": [
        "## Display Actual vs Predicted"
      ],
      "metadata": {
        "id": "iaqMYVbFgLwr"
      }
    },
    {
      "cell_type": "code",
      "source": [
        "# Visualize the data\n",
        "plt.figure(figsize=(16,8))\n",
        "plt.title('Reliance Industries', fontsize=16)\n",
        "plt.xlabel('Date', fontsize=16)\n",
        "plt.ylabel('Open Price INR', fontsize=16)\n",
        "plt.plot(valid[['Actual','Prediction']])\n",
        "plt.legend(['Actual', 'Prediction'], loc='lower right')\n",
        "plt.show()"
      ],
      "metadata": {
        "id": "oJV-gAHFgQmv"
      },
      "execution_count": null,
      "outputs": []
    },
    {
      "cell_type": "markdown",
      "source": [
        "##Plot Stock Prediction"
      ],
      "metadata": {
        "id": "luev6qU1gfi6"
      }
    },
    {
      "cell_type": "code",
      "source": [
        "# Plot stock prediction\n",
        "plt.gcf().set_size_inches(22, 15, forward=True)\n",
        "start = 0\n",
        "end = -1\n",
        "real = plt.plot(unscaled_y_test[start:end], label='real')\n",
        "pred = plt.plot(y_test_predicted[start:end], label='predicted')\n",
        "plt.title('Reliance Industries')\n",
        "plt.legend(['Real', 'Predicted'])\n",
        "plt.show()"
      ],
      "metadata": {
        "id": "Zg4DcoGwgQh0"
      },
      "execution_count": null,
      "outputs": []
    },
    {
      "cell_type": "markdown",
      "source": [
        "## The End"
      ],
      "metadata": {
        "id": "PfnTu_48grlq"
      }
    }
  ]
}